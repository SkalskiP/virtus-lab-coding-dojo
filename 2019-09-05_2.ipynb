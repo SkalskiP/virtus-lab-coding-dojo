{
 "cells": [
  {
   "cell_type": "code",
   "execution_count": 39,
   "metadata": {},
   "outputs": [],
   "source": [
    "input_list = [1, 4, 20, 3, 10, 5, 12, 6, 15]\n",
    "input_sum = 33"
   ]
  },
  {
   "cell_type": "code",
   "execution_count": 64,
   "metadata": {},
   "outputs": [],
   "source": [
    "def validate_sum(input_lit, input_sum):\n",
    "    i = 0\n",
    "    j = 0\n",
    "    current_sum = 0\n",
    "    output = []\n",
    "    \n",
    "    while (i < len(input_list) and j < len(input_list)):\n",
    "        print(input_list[i:j])\n",
    "        print(current_sum)\n",
    "        print(current_sum < input_sum)\n",
    "        if (current_sum < input_sum):\n",
    "            current_sum += input_list[j]\n",
    "            j += 1\n",
    "        elif (current_sum > input_sum):\n",
    "            current_sum -= input_list[i]\n",
    "            i += 1\n",
    "            if (i > j):\n",
    "                j = i\n",
    "                current_sum = input_list[i]\n",
    "        else:\n",
    "            output.append(input_list[i:j])\n",
    "            current_sum -= input_list[i]\n",
    "            i += 1\n",
    "            \n",
    "    return output"
   ]
  },
  {
   "cell_type": "code",
   "execution_count": 65,
   "metadata": {},
   "outputs": [
    {
     "name": "stdout",
     "output_type": "stream",
     "text": [
      "[]\n",
      "0\n",
      "True\n",
      "[1]\n",
      "1\n",
      "True\n",
      "[1, 4]\n",
      "5\n",
      "True\n",
      "[1, 4, 20]\n",
      "25\n",
      "True\n",
      "[1, 4, 20, 3]\n",
      "28\n",
      "True\n",
      "[1, 4, 20, 3, 10]\n",
      "38\n",
      "False\n",
      "[4, 20, 3, 10]\n",
      "37\n",
      "False\n",
      "[20, 3, 10]\n",
      "33\n",
      "False\n",
      "[3, 10]\n",
      "13\n",
      "True\n",
      "[3, 10, 5]\n",
      "18\n",
      "True\n",
      "[3, 10, 5, 12]\n",
      "30\n",
      "True\n",
      "[3, 10, 5, 12, 6]\n",
      "36\n",
      "False\n",
      "[10, 5, 12, 6]\n",
      "33\n",
      "False\n",
      "[5, 12, 6]\n",
      "23\n",
      "True\n",
      "[[20, 3, 10], [10, 5, 12, 6]]\n"
     ]
    }
   ],
   "source": [
    "print(validate_sum(input_list, input_sum))"
   ]
  },
  {
   "cell_type": "code",
   "execution_count": null,
   "metadata": {},
   "outputs": [],
   "source": []
  },
  {
   "cell_type": "code",
   "execution_count": null,
   "metadata": {},
   "outputs": [],
   "source": []
  }
 ],
 "metadata": {
  "kernelspec": {
   "display_name": "Python 3",
   "language": "python",
   "name": "python3"
  },
  "language_info": {
   "codemirror_mode": {
    "name": "ipython",
    "version": 3
   },
   "file_extension": ".py",
   "mimetype": "text/x-python",
   "name": "python",
   "nbconvert_exporter": "python",
   "pygments_lexer": "ipython3",
   "version": "3.7.3"
  }
 },
 "nbformat": 4,
 "nbformat_minor": 2
}
