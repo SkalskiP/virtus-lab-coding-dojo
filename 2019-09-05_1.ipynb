{
 "cells": [
  {
   "cell_type": "code",
   "execution_count": 8,
   "metadata": {},
   "outputs": [],
   "source": [
    "test_cases = [\n",
    "    {\n",
    "        \"input\": {\n",
    "            \"arr_1\": [\"A\", \"B\", \"C\", \"D\"],\n",
    "            \"arr_2\": [\"C\", \"A\", \"D\", \"B\"]\n",
    "        },\n",
    "        \"output\": True\n",
    "    },\n",
    "    {\n",
    "        \"input\": {\n",
    "            \"arr_1\": [\"A\", \"B\", \"C\", \"D\"],\n",
    "            \"arr_2\": [\"C\", \"A\", \"D\"]\n",
    "        },\n",
    "        \"output\": False\n",
    "    },\n",
    "    {\n",
    "        \"input\": {\n",
    "            \"arr_1\": [\"A\", \"B\", \"D\"],\n",
    "            \"arr_2\": [\"C\", \"A\", \"D\", \"B\"]\n",
    "        },\n",
    "        \"output\": False\n",
    "    },\n",
    "    {\n",
    "        \"input\": {\n",
    "            \"arr_1\": [],\n",
    "            \"arr_2\": [\"C\", \"A\", \"D\", \"B\"]\n",
    "        },\n",
    "        \"output\": False\n",
    "    }\n",
    "]"
   ]
  },
  {
   "cell_type": "code",
   "execution_count": 6,
   "metadata": {},
   "outputs": [],
   "source": [
    "def validate_permutation(arr_1, arr_2):\n",
    "    if (len(arr_1) != len(arr_2)):\n",
    "        return False\n",
    "    \n",
    "    for element in arr_2:\n",
    "        if (element not in set(arr_1)):\n",
    "            return False\n",
    "            \n",
    "    return True"
   ]
  },
  {
   "cell_type": "code",
   "execution_count": 9,
   "metadata": {},
   "outputs": [
    {
     "name": "stdout",
     "output_type": "stream",
     "text": [
      "True\n",
      "True\n",
      "True\n",
      "True\n"
     ]
    }
   ],
   "source": [
    "for entry in test_cases:\n",
    "    arr_1 = entry[\"input\"][\"arr_1\"]\n",
    "    arr_2 = entry[\"input\"][\"arr_2\"]\n",
    "    output = entry[\"output\"]\n",
    "    print(validate_permutation(arr_1, arr_2) == output)"
   ]
  }
 ],
 "metadata": {
  "kernelspec": {
   "display_name": "Python 3",
   "language": "python",
   "name": "python3"
  },
  "language_info": {
   "codemirror_mode": {
    "name": "ipython",
    "version": 3
   },
   "file_extension": ".py",
   "mimetype": "text/x-python",
   "name": "python",
   "nbconvert_exporter": "python",
   "pygments_lexer": "ipython3",
   "version": "3.7.3"
  }
 },
 "nbformat": 4,
 "nbformat_minor": 2
}
